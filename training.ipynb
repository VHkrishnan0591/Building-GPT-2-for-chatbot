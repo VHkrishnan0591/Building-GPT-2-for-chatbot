{
 "cells": [
  {
   "cell_type": "code",
   "execution_count": 1,
   "id": "7507077a",
   "metadata": {},
   "outputs": [],
   "source": [
    "import torch\n",
    "import torch.nn.functional as f\n",
    "import math\n",
    "from torch.utils.data import Dataset, DataLoader\n",
    "import tiktoken"
   ]
  },
  {
   "cell_type": "code",
   "execution_count": 2,
   "id": "9e8723aa",
   "metadata": {},
   "outputs": [],
   "source": [
    "class MultiHeadAttention(torch.nn.Module):\n",
    "    def __init__(self, dim_model, num_heads, bias, model_dropout):\n",
    "        super().__init__()\n",
    "        self.dim_model = dim_model\n",
    "        self.bias = bias\n",
    "        self.num_heads = num_heads\n",
    "        self.head_dim = dim_model // num_heads\n",
    "        self.weights_query = torch.nn.Linear(self.dim_model, self.dim_model, bias=self.bias)\n",
    "        self.weights_value = torch.nn.Linear(self.dim_model, self.dim_model, bias=self.bias)\n",
    "        self.weights_key = torch.nn.Linear(self.dim_model, self.dim_model, bias=self.bias)\n",
    "        self.dropout = torch.nn.Dropout(model_dropout)\n",
    "    def forward(self,inputs):\n",
    "        query = self.weights_query(inputs)\n",
    "        key = self.weights_key(inputs)\n",
    "        value = self.weights_value(inputs)\n",
    "        query =  torch.reshape(query,(inputs.shape[0], inputs.shape[1], self.num_heads,self.head_dim))\n",
    "        key =  torch.reshape(key,(inputs.shape[0], inputs.shape[1], self.num_heads,self.head_dim))\n",
    "        value = torch.reshape(value,(inputs.shape[0], inputs.shape[1], self.num_heads,self.head_dim))\n",
    "        query = query.transpose(1,2)\n",
    "        key = key.transpose(1,2)\n",
    "        value = value.transpose(1,2)\n",
    "        multi_head_attention_scores = torch.matmul(query, key.transpose(2,3))\n",
    "        mask = torch.triu(torch.ones(multi_head_attention_scores.shape),diagonal=1) ==1\n",
    "        result =  multi_head_attention_scores.masked_fill(mask==True, -torch.inf)\n",
    "        multi_head_attn_weights = torch.softmax(result / key.shape[-1]**0.5, dim=-1)\n",
    "        dropout = torch.nn.Dropout(0.5)\n",
    "        multi_head_attn_weights = dropout(multi_head_attn_weights)\n",
    "        multi_head_context_vectors = torch.matmul(multi_head_attn_weights,value).transpose(1,2)\n",
    "        multi_head_context_vectors = torch.reshape(multi_head_context_vectors,(inputs.shape[0],inputs.shape[1],self.dim_model))\n",
    "        return multi_head_context_vectors"
   ]
  },
  {
   "cell_type": "code",
   "execution_count": 3,
   "id": "2cd92c84",
   "metadata": {},
   "outputs": [],
   "source": [
    "class layer_normalisation(torch.nn.Module):\n",
    "    def __init__(self, dim_model):\n",
    "        super().__init__()\n",
    "        self.scale = torch.nn.Parameter(torch.ones(dim_model))\n",
    "        self.shift = torch.nn.Parameter(torch.zeros(dim_model))\n",
    "        self.eps = 1e-5\n",
    "    def forward(self, inputs):\n",
    "        mean = inputs.mean( dim =-1, keepdim=True)\n",
    "        var = inputs.var( dim =-1, keepdim=True)\n",
    "        normalized_inputs = (inputs - mean) / torch.sqrt(var + self.eps)\n",
    "        normalized_inputs = self.scale * normalized_inputs + self.shift\n",
    "        return normalized_inputs"
   ]
  },
  {
   "cell_type": "code",
   "execution_count": 4,
   "id": "ffcbcceb",
   "metadata": {},
   "outputs": [],
   "source": [
    "class GeLU(torch.nn.Module):\n",
    "    def __init__(self):\n",
    "     super().__init__()\n",
    "\n",
    "    def forward(self, inputs):\n",
    "       return 0.5 * inputs * (1 + torch.tanh(torch.sqrt(torch.tensor(2 / math.pi)) * (inputs + 0.044715 * torch.pow(inputs, 3))))"
   ]
  },
  {
   "cell_type": "code",
   "execution_count": 5,
   "id": "03afc27b",
   "metadata": {},
   "outputs": [],
   "source": [
    "class feed_forward(torch.nn.Module):\n",
    "    def __init__(self,dim_model):\n",
    "        super().__init__()\n",
    "        self.layer = torch.nn.Sequential(torch.nn.Linear(dim_model,4*dim_model),GeLU(),\n",
    "                                         torch.nn.Linear(4*dim_model,dim_model))\n",
    "    def forward(self, inputs):\n",
    "        return self.layer(inputs)"
   ]
  },
  {
   "cell_type": "code",
   "execution_count": 6,
   "id": "1d1ea128",
   "metadata": {},
   "outputs": [],
   "source": [
    "class Transformer(torch.nn.Module):\n",
    "    def __init__(self, dim_model, num_heads, model_dropout):\n",
    "        super().__init__()\n",
    "        self.layer_norm = layer_normalisation(dim_model)\n",
    "        self.layer_norm2 = layer_normalisation(dim_model)\n",
    "        self.attention = MultiHeadAttention(dim_model, num_heads, False, model_dropout)\n",
    "        self.feed_forward = feed_forward(dim_model)\n",
    "        self.dropout = torch.nn.Dropout(model_dropout)\n",
    "    def forward(self, inputs):\n",
    "        shortcut_connection = inputs\n",
    "        layer_norm_output = self.layer_norm(inputs)\n",
    "        attention_output = self.attention(layer_norm_output)\n",
    "        attention_output = self.dropout(attention_output)\n",
    "        attention_output += shortcut_connection\n",
    "        shortcut_connection = attention_output\n",
    "        layer_norm_output2 = self.layer_norm2(attention_output)\n",
    "        feed_forward_output = self.feed_forward(layer_norm_output2)\n",
    "        feed_forward_output = self.dropout(feed_forward_output)\n",
    "        feed_forward_output += shortcut_connection\n",
    "        return feed_forward_output\n"
   ]
  },
  {
   "cell_type": "code",
   "execution_count": 7,
   "id": "c7c6e5e1",
   "metadata": {},
   "outputs": [],
   "source": [
    "class gpt2_architecture(torch.nn.Module):\n",
    "    def __init__(self,config):\n",
    "        super().__init__()\n",
    "        self.token_embedding = torch.nn.Embedding(config[\"vocab_size\"],config[\"emb_dim\"])\n",
    "        self.positional_embedding = torch.nn.Embedding(config['context_length'],config[\"emb_dim\"])\n",
    "        self.dropout = torch.nn.Dropout(config['drop_rate'])\n",
    "        self.transformer = torch.nn.Sequential(*[Transformer(config['emb_dim'],config['n_heads'],config['drop_rate']) for i in range(config['n_layers'])])\n",
    "        self.final_layer_norm = layer_normalisation(config['emb_dim'])\n",
    "        self.output_layer = torch.nn.Linear(config[\"emb_dim\"],config[\"vocab_size\"])\n",
    "    \n",
    "    def forward(self, inputs):\n",
    "        x = self.token_embedding(inputs)\n",
    "        x = x + self.positional_embedding(torch.arange(inputs.shape[-1]))\n",
    "        x = self.dropout(x)\n",
    "        x = self.transformer(x)\n",
    "        x = self.final_layer_norm(x)\n",
    "        x = self.output_layer(x)\n",
    "        return x\n"
   ]
  },
  {
   "cell_type": "code",
   "execution_count": 8,
   "id": "485c5799",
   "metadata": {},
   "outputs": [],
   "source": [
    "GPT_CONFIG_124M = {\n",
    "    \"vocab_size\": 50257,   # Vocabulary size\n",
    "    \"context_length\": 256, # Shortened context length (orig: 1024)\n",
    "    \"emb_dim\": 768,        # Embedding dimension\n",
    "    \"n_heads\": 12,         # Number of attention heads\n",
    "    \"n_layers\": 12,        # Number of layers\n",
    "    \"drop_rate\": 0.1,      # Dropout rate\n",
    "    \"qkv_bias\": False      # Query-key-value bias\n",
    "}"
   ]
  },
  {
   "cell_type": "code",
   "execution_count": 9,
   "id": "27f32006",
   "metadata": {},
   "outputs": [],
   "source": [
    "class SimpleDataset(Dataset):\n",
    "    def __init__(self, data, stride, context_length):\n",
    "        self.input =[]\n",
    "        self.output =[]\n",
    "        enc_text = data\n",
    "        for i in range(0,len(enc_text)-context_length, stride):\n",
    "            self.input.append(enc_text[i:i+context_length])\n",
    "            self.output.append(enc_text[i+1:i+1+context_length])\n",
    "    def __len__(self):\n",
    "        return len(self.input)\n",
    "    def __getitem__(self,index):\n",
    "        return torch.tensor(self.input)[index], torch.tensor(self.output)[index]"
   ]
  },
  {
   "cell_type": "code",
   "execution_count": 10,
   "id": "a236e837",
   "metadata": {},
   "outputs": [],
   "source": [
    "def create_dataloader(data, context_length=256, stride=128,shuffle= False,batch_size=4,num_workers=0,drop_last=True):\n",
    "    dataset = SimpleDataset(data, stride, context_length)\n",
    "    dataloader = DataLoader(dataset, batch_size=batch_size, shuffle=shuffle,num_workers=num_workers,drop_last=drop_last)\n",
    "    return dataloader"
   ]
  },
  {
   "cell_type": "markdown",
   "id": "f1fe8560",
   "metadata": {},
   "source": [
    "As discussed in the full_gpt_architecture file we will be using a manual split as it is simple and we are building this to know how to build one."
   ]
  },
  {
   "cell_type": "code",
   "execution_count": 11,
   "id": "c64ead18",
   "metadata": {},
   "outputs": [
    {
     "name": "stdout",
     "output_type": "stream",
     "text": [
      "The total length of the filename is: 20479\n"
     ]
    }
   ],
   "source": [
    "import re\n",
    "filename = 'the-verdict.txt'\n",
    "with open(filename,'r') as f:\n",
    "    data = f.read()\n",
    "print(\"The total length of the filename is:\", len(data))"
   ]
  },
  {
   "cell_type": "code",
   "execution_count": 12,
   "id": "7b5acf35",
   "metadata": {},
   "outputs": [
    {
     "data": {
      "text/plain": [
       "'I HAD always thought'"
      ]
     },
     "execution_count": 12,
     "metadata": {},
     "output_type": "execute_result"
    }
   ],
   "source": [
    "# Train/validation ratio\n",
    "tokenizer = tiktoken.get_encoding(\"gpt2\")\n",
    "encoded_text = tokenizer.encode(data)\n",
    "train_ratio = 0.90\n",
    "split_idx = int(train_ratio * len(encoded_text))\n",
    "train_data = encoded_text[:split_idx]\n",
    "val_data = encoded_text[split_idx:]\n",
    "tokenizer.decode(train_data[:5])"
   ]
  },
  {
   "cell_type": "code",
   "execution_count": 13,
   "id": "ddd9bdf5",
   "metadata": {},
   "outputs": [],
   "source": [
    "torch.manual_seed(123)\n",
    "\n",
    "train_loader = create_dataloader(\n",
    "    train_data,\n",
    "    batch_size=2,\n",
    "    context_length=GPT_CONFIG_124M[\"context_length\"],\n",
    "    stride=GPT_CONFIG_124M[\"context_length\"],\n",
    "    drop_last=True,\n",
    "    shuffle=True,\n",
    "    num_workers=0\n",
    ")\n",
    "\n",
    "val_loader = create_dataloader(\n",
    "    val_data,\n",
    "    batch_size=2,\n",
    "    context_length=GPT_CONFIG_124M[\"context_length\"],\n",
    "    stride=GPT_CONFIG_124M[\"context_length\"],\n",
    "    drop_last=False,\n",
    "    shuffle=False,\n",
    "    num_workers=0\n",
    ")"
   ]
  },
  {
   "cell_type": "code",
   "execution_count": 14,
   "id": "ec7f392c",
   "metadata": {},
   "outputs": [
    {
     "name": "stdout",
     "output_type": "stream",
     "text": [
      "Train loader:\n",
      "torch.Size([2, 256]) torch.Size([2, 256])\n",
      "torch.Size([2, 256]) torch.Size([2, 256])\n",
      "torch.Size([2, 256]) torch.Size([2, 256])\n",
      "torch.Size([2, 256]) torch.Size([2, 256])\n",
      "torch.Size([2, 256]) torch.Size([2, 256])\n",
      "torch.Size([2, 256]) torch.Size([2, 256])\n",
      "torch.Size([2, 256]) torch.Size([2, 256])\n",
      "torch.Size([2, 256]) torch.Size([2, 256])\n",
      "torch.Size([2, 256]) torch.Size([2, 256])\n",
      "\n",
      "Validation loader:\n",
      "torch.Size([2, 256]) torch.Size([2, 256])\n",
      "9\n",
      "1\n"
     ]
    }
   ],
   "source": [
    "print(\"Train loader:\")\n",
    "for x, y in train_loader:\n",
    "    print(x.shape, y.shape)\n",
    "\n",
    "print(\"\\nValidation loader:\")\n",
    "for x, y in val_loader:\n",
    "    print(x.shape, y.shape)\n",
    "\n",
    "print(len(train_loader))\n",
    "print(len(val_loader))"
   ]
  },
  {
   "cell_type": "markdown",
   "id": "d3d9c7e6",
   "metadata": {},
   "source": [
    "we implement a utility function to calculate the cross-entropy loss of a given batch."
   ]
  },
  {
   "cell_type": "code",
   "execution_count": 15,
   "id": "d7df6582",
   "metadata": {},
   "outputs": [],
   "source": [
    "def cross_entropy_loss_batch(model,inputs, actual_output):\n",
    "    predicted_output = model(inputs)\n",
    "    loss = torch.nn.functional.cross_entropy(predicted_output.flatten(0,1),actual_output.flatten(0,1))\n",
    "    return loss\n",
    "\n",
    "def cross_entropy_loss_loader(model, dataloader):\n",
    "    total_loss =0\n",
    "    for inputs, actual_output in dataloader:\n",
    "        total_loss += cross_entropy_loss_batch(model,inputs,actual_output)\n",
    "    return total_loss/len(dataloader)\n",
    "\n"
   ]
  },
  {
   "cell_type": "code",
   "execution_count": 16,
   "id": "b608a047",
   "metadata": {},
   "outputs": [
    {
     "name": "stdout",
     "output_type": "stream",
     "text": [
      "cpu\n",
      "Training loss: tensor(10.9648)\n",
      "Validation loss: tensor(10.9826)\n"
     ]
    }
   ],
   "source": [
    "device = torch.device(\"cuda\" if torch.cuda.is_available() else \"cpu\")\n",
    "print(device)\n",
    "torch.manual_seed(123)\n",
    "model = gpt2_architecture(GPT_CONFIG_124M)\n",
    "\n",
    "model.to(device) # no assignment model = model.to(device) necessary for nn.Module classes\n",
    "model.eval()\n",
    "\n",
    "torch.manual_seed(123) # For reproducibility due to the shuffling in the data loader\n",
    "\n",
    "with torch.no_grad(): # Disable gradient tracking for efficiency because we are not training, yet\n",
    "    train_loss = cross_entropy_loss_loader(model,train_loader)\n",
    "    val_loss = cross_entropy_loss_loader(model,val_loader)\n",
    "\n",
    "print(\"Training loss:\", train_loss)\n",
    "print(\"Validation loss:\", val_loss)"
   ]
  },
  {
   "cell_type": "code",
   "execution_count": 17,
   "id": "3305eb14",
   "metadata": {},
   "outputs": [],
   "source": [
    "def generate_new_tokens(model, inputs, expected_context_length):\n",
    "    model.eval()\n",
    "    for i in range(expected_context_length):\n",
    "        with torch.no_grad():\n",
    "            out = model(inputs)\n",
    "        indexes = torch.argmax(out[:,-1,:],keepdim=True,dim=1)\n",
    "        inputs = torch.cat((inputs,indexes),dim=1)\n",
    "    return inputs"
   ]
  },
  {
   "cell_type": "code",
   "execution_count": 18,
   "id": "3593859e",
   "metadata": {},
   "outputs": [
    {
     "name": "stdout",
     "output_type": "stream",
     "text": [
      "Output text:\n",
      " Every effort moves you ib monstrousters Aluminum helpedovo 1280mL appBuyable\n"
     ]
    }
   ],
   "source": [
    "tokenizer = tiktoken.get_encoding(\"gpt2\")\n",
    "def text_to_token_ids(text, tokenizer):\n",
    "    encoded = tokenizer.encode(text, allowed_special={'<|endoftext|>'})\n",
    "    encoded_tensor = torch.tensor(encoded).unsqueeze(0) # add batch dimension\n",
    "    return encoded_tensor\n",
    "\n",
    "def token_ids_to_text(token_ids, tokenizer):\n",
    "    flat = token_ids.squeeze(0) # remove batch dimension\n",
    "    return tokenizer.decode(flat.tolist())\n",
    "\n",
    "start_context = \"Every effort moves you\"\n",
    "\n",
    "\n",
    "\n",
    "token_ids = generate_new_tokens(\n",
    "    model=model,\n",
    "    inputs=text_to_token_ids(start_context, tokenizer),expected_context_length=10)\n",
    "\n",
    "print(\"Output text:\\n\", token_ids_to_text(token_ids, tokenizer))"
   ]
  },
  {
   "cell_type": "code",
   "execution_count": null,
   "id": "29d0a097",
   "metadata": {},
   "outputs": [],
   "source": [
    "def train_gpt(model,train_loader,val_loader,num_epoch,optimizer,eval_freq,start_context,tokenizer):\n",
    "    train_losses, val_losses = [],[]\n",
    "    global_step = -1\n",
    "    for i in range(num_epoch):\n",
    "        model.train()\n",
    "        for inputs,actual_outputs in train_loader:\n",
    "            optimizer.zero_grad() # Reset loss gradients from previous batch iteration\n",
    "            loss = cross_entropy_loss_batch(model,inputs, actual_outputs)\n",
    "            loss.backward() # Calculate loss gradients\n",
    "            optimizer.step()\n",
    "            global_step+=1\n",
    "\n",
    "            if global_step % eval_freq == 0:\n",
    "                model.eval()\n",
    "                with torch.no_grad():\n",
    "                    train_loss = cross_entropy_loss_loader(model,train_loader)\n",
    "                    val_loss = cross_entropy_loss_loader(model,val_loader)\n",
    "                    print(f\"Ep {i+1} (Step {global_step:06d}): \"\n",
    "                        f\"Train loss {train_loss:.3f}, Val loss {val_loss:.3f}\")\n",
    "                train_losses.append(train_loss)\n",
    "                val_losses.append(val_loss)\n",
    "                model.train()\n",
    "        token_ids = generate_new_tokens(\n",
    "        model=model,\n",
    "        inputs=text_to_token_ids(start_context, tokenizer),expected_context_length=10)\n",
    "        decoded_text = token_ids_to_text(token_ids, tokenizer)\n",
    "        print(decoded_text.replace(\"\\n\", \" \"))  # Compact print format\n",
    "        model.train()\n",
    "    return train_losses,val_losses\n",
    "\n"
   ]
  },
  {
   "cell_type": "code",
   "execution_count": 20,
   "id": "d7929955",
   "metadata": {},
   "outputs": [
    {
     "name": "stdout",
     "output_type": "stream",
     "text": [
      "Ep 1 (Step 000000): Train loss 9.929, Val loss 10.005\n",
      "Ep 1 (Step 000005): Train loss 8.128, Val loss 8.382\n",
      "Ep 2 (Step 000010): Train loss 6.739, Val loss 7.071\n",
      "Ep 2 (Step 000015): Train loss 6.092, Val loss 6.578\n",
      "Ep 3 (Step 000020): Train loss 5.778, Val loss 6.496\n",
      "Ep 3 (Step 000025): Train loss 5.661, Val loss 6.512\n",
      "Ep 4 (Step 000030): Train loss 5.513, Val loss 6.490\n",
      "Ep 4 (Step 000035): Train loss 5.160, Val loss 6.424\n",
      "Ep 5 (Step 000040): Train loss 4.813, Val loss 6.414\n",
      "Ep 6 (Step 000045): Train loss 4.311, Val loss 6.340\n",
      "Ep 6 (Step 000050): Train loss 3.782, Val loss 6.294\n",
      "Ep 7 (Step 000055): Train loss 3.311, Val loss 6.237\n",
      "Ep 7 (Step 000060): Train loss 2.864, Val loss 6.135\n",
      "Ep 8 (Step 000065): Train loss 2.397, Val loss 6.197\n",
      "Ep 8 (Step 000070): Train loss 1.979, Val loss 6.168\n",
      "Ep 9 (Step 000075): Train loss 1.581, Val loss 6.258\n",
      "Ep 9 (Step 000080): Train loss 1.240, Val loss 6.291\n",
      "Ep 10 (Step 000085): Train loss 0.958, Val loss 6.418\n",
      "Every effort moves you?\"  \"Yes--quite insensible to\n"
     ]
    }
   ],
   "source": [
    "torch.manual_seed(123)\n",
    "model = gpt2_architecture(GPT_CONFIG_124M)\n",
    "model.to(device)\n",
    "optimizer = torch.optim.AdamW(model.parameters(), lr=0.0004, weight_decay=0.1)\n",
    "start_context = \"Every effort moves you\"\n",
    "num_epoch = 10\n",
    "\n",
    "train_losses, val_losses, = train_gpt(model,train_loader,val_loader,num_epoch,optimizer,eval_freq=5,start_context=start_context,tokenizer=tokenizer)\n"
   ]
  },
  {
   "cell_type": "code",
   "execution_count": 21,
   "id": "7bf0a6ce",
   "metadata": {},
   "outputs": [
    {
     "data": {
      "image/png": "[encoded data removed]",
      "text/plain": [
       "<Figure size 500x300 with 1 Axes>"
      ]
     },
     "metadata": {},
     "output_type": "display_data"
    }
   ],
   "source": [
    "# Plot the results\n",
    "import matplotlib.pyplot as plt\n",
    "from matplotlib.ticker import MaxNLocator\n",
    "epochs_tensor = torch.linspace(0, num_epoch, len(train_losses))\n",
    "fig, ax1 = plt.subplots(figsize=(5, 3))\n",
    "# Plot training and validation loss against epochs\n",
    "ax1.plot(epochs_tensor, train_losses, label=\"Training loss\")\n",
    "ax1.plot(epochs_tensor, val_losses, linestyle=\"-.\", label=\"Validation loss\")\n",
    "ax1.set_xlabel(\"Epochs\")\n",
    "ax1.set_ylabel(\"Loss\")\n",
    "ax1.legend(loc=\"upper right\")\n",
    "ax1.xaxis.set_major_locator(MaxNLocator(integer=True)) \n"
   ]
  },
  {
   "cell_type": "code",
   "execution_count": 22,
   "id": "b54ca99b",
   "metadata": {},
   "outputs": [],
   "source": [
    "torch.save({\n",
    "    'model_state_dict': model.state_dict(),\n",
    "    'optimizer_state_dict': optimizer.state_dict()\n",
    "}, 'checkpoint.pth')"
   ]
  },
  {
   "cell_type": "code",
   "execution_count": null,
   "id": "60c5fd59",
   "metadata": {},
   "outputs": [],
   "source": []
  }
 ],
 "metadata": {
  "kernelspec": {
   "display_name": "myenv",
   "language": "python",
   "name": "python3"
  },
  "language_info": {
   "codemirror_mode": {
    "name": "ipython",
    "version": 3
   },
   "file_extension": ".py",
   "mimetype": "text/x-python",
   "name": "python",
   "nbconvert_exporter": "python",
   "pygments_lexer": "ipython3",
   "version": "3.12.2"
  }
 },
 "nbformat": 4,
 "nbformat_minor": 5
}
